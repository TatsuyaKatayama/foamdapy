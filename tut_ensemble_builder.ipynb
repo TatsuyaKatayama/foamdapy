{
 "cells": [
  {
   "cell_type": "code",
   "execution_count": 1,
   "metadata": {},
   "outputs": [],
   "source": [
    "from foamdapy.ensemble_builder import ensemble_case_builder"
   ]
  },
  {
   "cell_type": "code",
   "execution_count": 11,
   "metadata": {},
   "outputs": [
    {
     "name": "stdout",
     "output_type": "stream",
     "text": [
      "Running blockMesh on /home/katayamata/works/foamdapy/ensim2/mixerVessel2D\n",
      "Running topoSet on /home/katayamata/works/foamdapy/ensim2/mixerVessel2D\n",
      "Running setsToZones on /home/katayamata/works/foamdapy/ensim2/mixerVessel2D\n",
      "Restore 0/ from 0.orig/\n",
      "Running multiphaseEulerFoam on /home/katayamata/works/foamdapy/ensim2/mixerVessel2D\n"
     ]
    }
   ],
   "source": [
    "!mkdir -p ./ensim2\n",
    "!cp -r $FOAM_TUTORIALS/multiphase/multiphaseEulerFoam/mixerVessel2D ./ensim2\n",
    "!sed -i\".org\" -e 's/endTime         20/endTime  5/' ./ensim2/mixerVessel2D/system/controlDict\n",
    "!cd ./ensim2/mixerVessel2D ; ./Allrun"
   ]
  },
  {
   "cell_type": "code",
   "execution_count": 2,
   "metadata": {},
   "outputs": [],
   "source": [
    "casesbuilder = ensemble_case_builder(\"./ensim2/mixerVessel2D\",\"./ensim2\")\n",
    "casesbuilder.allrun(5.5, 5.6, 0.01, 1)"
   ]
  },
  {
   "cell_type": "code",
   "execution_count": 7,
   "metadata": {},
   "outputs": [],
   "source": []
  },
  {
   "cell_type": "code",
   "execution_count": 5,
   "metadata": {},
   "outputs": [
    {
     "name": "stdout",
     "output_type": "stream",
     "text": [
      "0  1  constant\tsystem\n"
     ]
    },
    {
     "name": "stdout",
     "output_type": "stream",
     "text": [
      "/home/katayamata/works/foamdapy\n"
     ]
    }
   ],
   "source": [
    "!ls ensim2/ofsim_00\n",
    "!pwd"
   ]
  },
  {
   "cell_type": "code",
   "execution_count": null,
   "metadata": {},
   "outputs": [],
   "source": []
  }
 ],
 "metadata": {
  "kernelspec": {
   "display_name": ".venv",
   "language": "python",
   "name": "python3"
  },
  "language_info": {
   "codemirror_mode": {
    "name": "ipython",
    "version": 3
   },
   "file_extension": ".py",
   "mimetype": "text/x-python",
   "name": "python",
   "nbconvert_exporter": "python",
   "pygments_lexer": "ipython3",
   "version": "3.10.12"
  }
 },
 "nbformat": 4,
 "nbformat_minor": 2
}
