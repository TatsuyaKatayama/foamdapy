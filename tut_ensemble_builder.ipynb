{
 "cells": [
  {
   "cell_type": "code",
   "execution_count": 1,
   "metadata": {},
   "outputs": [],
   "source": [
    "from foamdapy.ensemble_builder import ensemble_case_builder"
   ]
  },
  {
   "cell_type": "code",
   "execution_count": 23,
   "metadata": {},
   "outputs": [
    {
     "name": "stdout",
     "output_type": "stream",
     "text": [
      "blockMesh already run on /home/katayamata/works/foamdapy/ensim4/mixerVessel2D: remove log file 'log.blockMesh' to re-run\n",
      "topoSet already run on /home/katayamata/works/foamdapy/ensim4/mixerVessel2D: remove log file 'log.topoSet' to re-run\n",
      "setsToZones already run on /home/katayamata/works/foamdapy/ensim4/mixerVessel2D: remove log file 'log.setsToZones' to re-run\n",
      "Restore 0/ from 0.orig/\n",
      "multiphaseEulerFoam already run on /home/katayamata/works/foamdapy/ensim4/mixerVessel2D: remove log file 'log.multiphaseEulerFoam' to re-run\n",
      "Restore 0/ from 0.orig/\n",
      "Running multiphaseEulerFoam on /home/katayamata/works/foamdapy/ensim4/mixerVessel2D\n"
     ]
    }
   ],
   "source": [
    "%%bash\n",
    "endir=./ensim4\n",
    "\n",
    "mkdir -p $endir\n",
    "cd $endir\n",
    "cp -r $FOAM_TUTORIALS/multiphase/multiphaseEulerFoam/mixerVessel2D ./\n",
    "sed -i\".org\" -e 's/endTime\\s\\s*20;/endTime  5;/' ./mixerVessel2D/system/controlDict\n",
    "cd ./mixerVessel2D ; ./Allrun ; cd ../\n",
    "rm ./mixerVessel2D/log.*\n",
    "\n",
    "# create ensemble\n",
    "sed -i -e 's/startFrom\\s\\s*latestTime;/startFrom  startTime;/' ./mixerVessel2D/system/controlDict\n",
    "sed -i -e 's/startTime\\s\\s*0;/startTime  5;/' ./mixerVessel2D/system/controlDict\n",
    "sed -i -e 's/endTime  5;/endTime  5.3;/' ./mixerVessel2D/system/controlDict\n",
    "sed -i -e 's/writeInterval\\s\\s*0.1;/writeInterval  0.01;/' ./mixerVessel2D/system/controlDict\n",
    "sed -i\".org\" -e 's|\\./Allrun\\.pre||' ./mixerVessel2D/Allrun\n",
    "cd ./mixerVessel2D ; ./Allrun ; cd ../\n",
    "rm ./mixerVessel2D/log.*\n",
    "\n"
   ]
  },
  {
   "cell_type": "code",
   "execution_count": null,
   "metadata": {},
   "outputs": [],
   "source": [
    "# 5.1ディレクトリを除く、5～5.2をensembleデータ\n",
    "# 5.1ディレクトリをtrueデータとする(5.1～5.3)"
   ]
  },
  {
   "cell_type": "code",
   "execution_count": 2,
   "metadata": {},
   "outputs": [],
   "source": [
    "casesbuilder = ensemble_case_builder(\"./ensim2/mixerVessel2D\",\"./ensim2\")\n",
    "casesbuilder.allrun(5.5, 5.6, 0.01, 1)\n",
    "\n"
   ]
  },
  {
   "cell_type": "code",
   "execution_count": 3,
   "metadata": {},
   "outputs": [
    {
     "name": "stdout",
     "output_type": "stream",
     "text": [
      "./ensim3\n"
     ]
    }
   ],
   "source": [
    "%%bash\n",
    "endir=./ensim3\n",
    "echo $endir"
   ]
  },
  {
   "cell_type": "code",
   "execution_count": 5,
   "metadata": {},
   "outputs": [
    {
     "name": "stdout",
     "output_type": "stream",
     "text": [
      "\n"
     ]
    }
   ],
   "source": [
    "#!ls ensim2/ofsim_00\n",
    "!echo $endir"
   ]
  },
  {
   "cell_type": "code",
   "execution_count": null,
   "metadata": {},
   "outputs": [],
   "source": []
  }
 ],
 "metadata": {
  "kernelspec": {
   "display_name": ".venv",
   "language": "python",
   "name": "python3"
  },
  "language_info": {
   "codemirror_mode": {
    "name": "ipython",
    "version": 3
   },
   "file_extension": ".py",
   "mimetype": "text/x-python",
   "name": "python",
   "nbconvert_exporter": "python",
   "pygments_lexer": "ipython3",
   "version": "3.10.12"
  }
 },
 "nbformat": 4,
 "nbformat_minor": 2
}
