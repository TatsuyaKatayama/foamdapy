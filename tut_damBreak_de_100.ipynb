{
 "cells": [
  {
   "cell_type": "code",
   "execution_count": 1,
   "metadata": {},
   "outputs": [],
   "source": [
    "from foamdapy.ensemble_builder import ensemble_case_builder"
   ]
  },
  {
   "cell_type": "markdown",
   "metadata": {},
   "source": [
    "# damBreakで1を作る\n",
    "## 問題設定\n",
    "damBreakチュートリアルにおいて、0.5秒時点の右壁Cellのalpha.water>0.5の領域が1になるように、\n",
    "alpha.waterの初期条件、nu, rho, sigmaを定める。  \n",
    "一旦、制約条件としてalpha.waterの総量は入れない。\n",
    "\n",
    "## 解法\n",
    "* 目的関数の最終ゴールを観測変数と見立てて、データ同化を行い逆問題を解く。\n",
    "* 状態変数 x={alpha.water_0, nu, rho, sigma, alpha_water.right_0.5}にする。\n",
    "* 観測変数 y={alpha_water.right_one} ←最終的に目指したいalpha_water.rightの分布\n",
    "* 制約条件としてalpha.waterの総量は指定する場合は、状態変数、観測変数のalpha.waterの総量を追加すること。\n",
    "* localization_matrixは、各イタレーションでのalpha.water_0 > 0 とその周辺\n",
    "* infration param は0.7。 xa' = 0.3*xf + 0.7*xa\n",
    "\n",
    "\n",
    "## 計算フロー\n",
    "1. アンサンブルメンバの用意。\n",
    "2. 状態変数に平均0のノイズを加える\n",
    "3. Forcast $t_i$ + 0.5秒まで計算\n",
    "4. localozation_matの用意\n",
    "5. Analysis 全アンサンブルメンバの $t_i$ + 1 に解析結果を書き込む\n",
    "6. $t_i$ + 1 ⇒　$t_i$とし、3に戻る。\n",
    "\n",
    "\n",
    "\n",
    "## ディレクトリ構造\n",
    "foamdapy  \n",
    "├── **ensim5** #  \n",
    "│　　├── **menber**  \n",
    "│　　│　　├── **damBreak0**  \n",
    "│　　│　　├── **damBreak1**  \n",
    "│　　│　　...  \n",
    "│　　│　　└── **damBreak20**   \n",
    "│　　├── **it_0**  \n",
    "│　　│　　├── xf.npy  \n",
    "│　　│　　├── xa  \n",
    "│　　│　　└── rmat  \n",
    "│　　├── **it_1**  \n",
    "│　　│　　├── xf  \n",
    "│　　│　　├── xa  \n",
    "│　　│　　└── rmat  \n",
    "│　　└── **it_n**  \n",
    "│　　　　　├── xf  \n",
    "│　　　　　├── xa  \n",
    "│　　　　　└── rmat  \n",
    "└── tut_damBreakDe100.ipynb　　"
   ]
  },
  {
   "cell_type": "code",
   "execution_count": 2,
   "metadata": {},
   "outputs": [
    {
     "name": "stdout",
     "output_type": "stream",
     "text": [
      "Restore 0/ from 0.orig/\n",
      "Running blockMesh on /home/katayamata/works/foamdapy/ensim5/damBreak0\n"
     ]
    },
    {
     "name": "stdout",
     "output_type": "stream",
     "text": [
      "Running setFields on /home/katayamata/works/foamdapy/ensim5/damBreak0\n",
      "Running interFoam on /home/katayamata/works/foamdapy/ensim5/damBreak0\n"
     ]
    }
   ],
   "source": [
    "%%bash\n",
    "endir=./ensim5\n",
    "tutdir=$FOAM_TUTORIALS/multiphase/interFoam/laminar/damBreak\n",
    "tutname=damBreak\n",
    "mkdir -p $endir\n",
    "cd $endir\n",
    "cp -r $tutdir/$tutname ./\"$tutname\"0\n",
    "cd ./\"$tutname\"0 ; ./Allrun ; cd ../\n",
    "rm ./\"$tutname\"0/log.*"
   ]
  },
  {
   "cell_type": "markdown",
   "metadata": {},
   "source": [
    "# アンサンブルシミュレーションを実行\n",
    "1. アンサンブルフォルダ作成\n",
    "2. ケースコピー\n",
    "3. alpha.waterをいじくる\n",
    "4. xf作成\n",
    "5. H,yを作成\n",
    "6. ローカリゼーションマトリクスとinvR\n",
    "7. xaを計算\n",
    "8. 1に戻る"
   ]
  },
  {
   "cell_type": "markdown",
   "metadata": {},
   "source": []
  },
  {
   "cell_type": "code",
   "execution_count": 2,
   "metadata": {},
   "outputs": [],
   "source": [
    "casesbuilder = ensemble_case_builder(\"./ensim2/mixerVessel2D\",\"./ensim2\")\n",
    "casesbuilder.allrun(5.5, 5.6, 0.01, 1)\n",
    "\n"
   ]
  },
  {
   "cell_type": "code",
   "execution_count": 3,
   "metadata": {},
   "outputs": [
    {
     "name": "stdout",
     "output_type": "stream",
     "text": [
      "./ensim3\n"
     ]
    }
   ],
   "source": [
    "%%bash\n",
    "endir=./ensim3\n",
    "echo $endir"
   ]
  },
  {
   "cell_type": "code",
   "execution_count": 5,
   "metadata": {},
   "outputs": [
    {
     "name": "stdout",
     "output_type": "stream",
     "text": [
      "\n"
     ]
    }
   ],
   "source": [
    "#!ls ensim2/ofsim_00\n",
    "!echo $endir"
   ]
  },
  {
   "cell_type": "code",
   "execution_count": null,
   "metadata": {},
   "outputs": [],
   "source": []
  }
 ],
 "metadata": {
  "kernelspec": {
   "display_name": ".venv",
   "language": "python",
   "name": "python3"
  },
  "language_info": {
   "codemirror_mode": {
    "name": "ipython",
    "version": 3
   },
   "file_extension": ".py",
   "mimetype": "text/x-python",
   "name": "python",
   "nbconvert_exporter": "python",
   "pygments_lexer": "ipython3",
   "version": "3.10.12"
  }
 },
 "nbformat": 4,
 "nbformat_minor": 2
}
